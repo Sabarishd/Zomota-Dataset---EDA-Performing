{
  "nbformat": 4,
  "nbformat_minor": 0,
  "metadata": {
    "colab": {
      "name": "Amazon Site Phones with help of Auto Scarper.ipynb",
      "provenance": [],
      "authorship_tag": "ABX9TyO1PEGUU3E8tF2ftyt+MJGQ",
      "include_colab_link": true
    },
    "kernelspec": {
      "name": "python3",
      "display_name": "Python 3"
    },
    "language_info": {
      "name": "python"
    }
  },
  "cells": [
    {
      "cell_type": "markdown",
      "metadata": {
        "id": "view-in-github",
        "colab_type": "text"
      },
      "source": [
        "<a href=\"https://colab.research.google.com/github/Sabarishd/Zomota-Dataset---EDA-Performing/blob/main/Amazon_Site_Phones_with_help_of_Auto_Scarper.ipynb\" target=\"_parent\"><img src=\"https://colab.research.google.com/assets/colab-badge.svg\" alt=\"Open In Colab\"/></a>"
      ]
    },
    {
      "cell_type": "code",
      "execution_count": 2,
      "metadata": {
        "colab": {
          "base_uri": "https://localhost:8080/"
        },
        "id": "LJBfKKb_rQon",
        "outputId": "c3112c9d-b4f7-46e2-92f4-a7cb7d69f1b5"
      },
      "outputs": [
        {
          "output_type": "stream",
          "name": "stdout",
          "text": [
            "Collecting autoscraper\n",
            "  Downloading autoscraper-1.1.12-py3-none-any.whl (10 kB)\n",
            "Requirement already satisfied: requests in /usr/local/lib/python3.7/dist-packages (from autoscraper) (2.23.0)\n",
            "Requirement already satisfied: bs4 in /usr/local/lib/python3.7/dist-packages (from autoscraper) (0.0.1)\n",
            "Requirement already satisfied: lxml in /usr/local/lib/python3.7/dist-packages (from autoscraper) (4.2.6)\n",
            "Requirement already satisfied: beautifulsoup4 in /usr/local/lib/python3.7/dist-packages (from bs4->autoscraper) (4.6.3)\n",
            "Requirement already satisfied: certifi>=2017.4.17 in /usr/local/lib/python3.7/dist-packages (from requests->autoscraper) (2021.10.8)\n",
            "Requirement already satisfied: idna<3,>=2.5 in /usr/local/lib/python3.7/dist-packages (from requests->autoscraper) (2.10)\n",
            "Requirement already satisfied: urllib3!=1.25.0,!=1.25.1,<1.26,>=1.21.1 in /usr/local/lib/python3.7/dist-packages (from requests->autoscraper) (1.24.3)\n",
            "Requirement already satisfied: chardet<4,>=3.0.2 in /usr/local/lib/python3.7/dist-packages (from requests->autoscraper) (3.0.4)\n",
            "Installing collected packages: autoscraper\n",
            "Successfully installed autoscraper-1.1.12\n"
          ]
        }
      ],
      "source": [
        "!pip install autoscraper"
      ]
    },
    {
      "cell_type": "code",
      "source": [
        "from autoscraper import AutoScraper\n",
        "import pandas as pd\n"
      ],
      "metadata": {
        "id": "i9HhtCSsrZkq"
      },
      "execution_count": 16,
      "outputs": []
    },
    {
      "cell_type": "code",
      "source": [
        "url = \"https://www.amazon.in/s?k=iphonese2022&sprefix=iphones\""
      ],
      "metadata": {
        "id": "f6oK-qKRr8t0"
      },
      "execution_count": 31,
      "outputs": []
    },
    {
      "cell_type": "code",
      "source": [
        "Scraper = AutoScraper()\n",
        "Wanted_list = ['Apple iPhone SE (128 GB) - Midnight (3rd Generation)' ,'₹46,900']"
      ],
      "metadata": {
        "id": "1TBKY3VTsGD6"
      },
      "execution_count": 40,
      "outputs": []
    },
    {
      "cell_type": "code",
      "source": [
        "result = Scraper.build(url,Wanted_list)"
      ],
      "metadata": {
        "id": "EBzLsxh3sUQR"
      },
      "execution_count": 41,
      "outputs": []
    },
    {
      "cell_type": "code",
      "source": [
        "print(result)"
      ],
      "metadata": {
        "colab": {
          "base_uri": "https://localhost:8080/"
        },
        "id": "73USY7DMseDp",
        "outputId": "b14e7977-d916-439a-d82d-caabf0347597"
      },
      "execution_count": 42,
      "outputs": [
        {
          "output_type": "stream",
          "name": "stdout",
          "text": [
            "['Apple iPhone SE (128 GB) - Midnight (3rd Generation)', 'Apple iPhone SE (64 GB) - (Product) RED (3rd Generation)', 'Apple iPhone SE (64 GB) - Midnight (3rd Generation)', 'Apple iPhone SE (64 GB) - Starlight (3rd Generation)', 'Apple iPhone SE (128 GB) - (Product) RED (3rd Generation)', 'Apple iPhone SE (256 GB) - (Product) RED (3rd Generation)', 'Apple iPhone SE (128 GB) - Starlight (3rd Generation)', 'Apple iPhone 13 (128GB) - Starlight', 'Samsung Galaxy S21 FE 5G (Olive, 8GB, 256GB Storage)', 'New Apple iPhone 12 (128GB) - Blue with AirPods with Charging Case', 'Apple iPhone 13 Mini (256 GB) - Green', 'Apple iPhone 12 (128GB) - White', 'New Apple iPhone 12 (128GB) - Black with AirPods with Charging Case', 'Apple iPhone XR (128GB) - Coral', 'Apple iPhone 13 Pro (128GB) - Graphite', 'Samsung Galaxy S22 Ultra 5G (Burgundy, 12GB, 512GB Storage) + Samsung Galaxy Watch4', '₹46,900', '₹48,900', '₹41,900', '₹43,900', '₹56,900', '₹58,900', '₹74,900', '₹79,900', '₹58,500', '₹69,999', '₹69,998', '₹83,800', '₹61,900', '₹70,900', '₹70,989', '₹42,999', '₹52,900', '₹1,19,900', '₹1,21,999', '₹1,61,998']\n"
          ]
        }
      ]
    },
    {
      "cell_type": "code",
      "source": [
        "Scraper.get_result_similar(url,grouped=True)"
      ],
      "metadata": {
        "colab": {
          "base_uri": "https://localhost:8080/"
        },
        "id": "H1tIgbd0s1DF",
        "outputId": "1e093b26-0462-44de-ea79-9fe010bb32df"
      },
      "execution_count": 43,
      "outputs": [
        {
          "output_type": "execute_result",
          "data": {
            "text/plain": [
              "{'rule_3njc': ['₹41,900',\n",
              "  '₹43,900',\n",
              "  '₹46,900',\n",
              "  '₹48,900',\n",
              "  '₹41,900',\n",
              "  '₹43,900',\n",
              "  '₹61,900',\n",
              "  '₹70,900',\n",
              "  '₹41,900',\n",
              "  '₹43,900',\n",
              "  '₹70,989',\n",
              "  '₹83,800',\n",
              "  '₹46,900',\n",
              "  '₹48,900',\n",
              "  '₹49,900',\n",
              "  '₹54,900',\n",
              "  '₹56,900',\n",
              "  '₹58,900',\n",
              "  '₹48,900',\n",
              "  '₹54,900',\n",
              "  '₹65,900',\n",
              "  '₹42,999',\n",
              "  '₹52,900',\n",
              "  '₹58,900',\n",
              "  '₹74,900',\n",
              "  '₹79,900',\n",
              "  '₹60,800',\n",
              "  '₹84,800',\n",
              "  '₹58,900'],\n",
              " 'rule_5c8j': ['₹41,900',\n",
              "  '₹43,900',\n",
              "  '₹46,900',\n",
              "  '₹48,900',\n",
              "  '₹41,900',\n",
              "  '₹43,900',\n",
              "  '₹61,900',\n",
              "  '₹70,900',\n",
              "  '₹41,900',\n",
              "  '₹43,900',\n",
              "  '₹70,989',\n",
              "  '₹83,800',\n",
              "  '₹46,900',\n",
              "  '₹48,900',\n",
              "  '₹49,900',\n",
              "  '₹54,900',\n",
              "  '₹56,900',\n",
              "  '₹58,900',\n",
              "  '₹48,900',\n",
              "  '₹54,900',\n",
              "  '₹65,900',\n",
              "  '₹42,999',\n",
              "  '₹52,900',\n",
              "  '₹58,900',\n",
              "  '₹74,900',\n",
              "  '₹79,900',\n",
              "  '₹60,800',\n",
              "  '₹84,800',\n",
              "  '₹58,900'],\n",
              " 'rule_9mcj': ['₹41,900',\n",
              "  '₹43,900',\n",
              "  '₹46,900',\n",
              "  '₹48,900',\n",
              "  '₹41,900',\n",
              "  '₹43,900',\n",
              "  '₹61,900',\n",
              "  '₹70,900',\n",
              "  '₹41,900',\n",
              "  '₹43,900',\n",
              "  '₹70,989',\n",
              "  '₹83,800',\n",
              "  '₹46,900',\n",
              "  '₹48,900',\n",
              "  '₹49,900',\n",
              "  '₹54,900',\n",
              "  '₹56,900',\n",
              "  '₹58,900',\n",
              "  '₹48,900',\n",
              "  '₹54,900',\n",
              "  '₹65,900',\n",
              "  '₹42,999',\n",
              "  '₹52,900',\n",
              "  '₹58,900',\n",
              "  '₹74,900',\n",
              "  '₹79,900',\n",
              "  '₹60,800',\n",
              "  '₹84,800',\n",
              "  '₹58,900'],\n",
              " 'rule_cllc': ['Apple iPhone SE (64 GB) - Midnight (3rd Generation)',\n",
              "  'Apple iPhone SE (128 GB) - Midnight (3rd Generation)',\n",
              "  'Apple iPhone SE (64 GB) - Starlight (3rd Generation)',\n",
              "  'Apple iPhone 12 (128GB) - White',\n",
              "  'Apple iPhone SE (64 GB) - (Product) RED (3rd Generation)',\n",
              "  'New Apple iPhone 12 (128GB) - Black with AirPods with Charging Case',\n",
              "  'Apple iPhone SE (128 GB) - Starlight (3rd Generation)',\n",
              "  'Apple iPhone 11 (128GB) - (Product) RED',\n",
              "  'Apple iPhone SE (256 GB) - (Product) RED (3rd Generation)',\n",
              "  'Apple iPhone SE (128 GB) - (Product) RED (3rd Generation)',\n",
              "  'Apple iPhone 12 (64GB) - Blue',\n",
              "  'Apple iPhone XR (128GB) - Coral',\n",
              "  'Apple iPhone SE (256 GB) - Midnight (3rd Generation)',\n",
              "  'Apple iPhone 13 (128GB) - Starlight',\n",
              "  'New Apple iPhone 12 (64GB) - (Product) RED with Apple Clear Case with Magsafe (for iPhone 12, 12 Pro)',\n",
              "  'Apple iPhone SE (256 GB) - Starlight (3rd Generation)'],\n",
              " 'rule_kgea': ['₹41,900',\n",
              "  '₹43,900',\n",
              "  '₹46,900',\n",
              "  '₹48,900',\n",
              "  '₹41,900',\n",
              "  '₹43,900',\n",
              "  '₹61,900',\n",
              "  '₹70,900',\n",
              "  '₹41,900',\n",
              "  '₹43,900',\n",
              "  '₹70,989',\n",
              "  '₹83,800',\n",
              "  '₹46,900',\n",
              "  '₹48,900',\n",
              "  '₹49,900',\n",
              "  '₹54,900',\n",
              "  '₹56,900',\n",
              "  '₹58,900',\n",
              "  '₹48,900',\n",
              "  '₹54,900',\n",
              "  '₹65,900',\n",
              "  '₹42,999',\n",
              "  '₹52,900',\n",
              "  '₹58,900',\n",
              "  '₹74,900',\n",
              "  '₹79,900',\n",
              "  '₹60,800',\n",
              "  '₹84,800',\n",
              "  '₹58,900'],\n",
              " 'rule_una6': ['Apple iPhone SE (64 GB) - Midnight (3rd Generation)',\n",
              "  'Apple iPhone SE (128 GB) - Midnight (3rd Generation)',\n",
              "  'Apple iPhone SE (64 GB) - Starlight (3rd Generation)',\n",
              "  'Apple iPhone 12 (128GB) - White',\n",
              "  'Apple iPhone SE (64 GB) - (Product) RED (3rd Generation)',\n",
              "  'New Apple iPhone 12 (128GB) - Black with AirPods with Charging Case',\n",
              "  'Apple iPhone SE (128 GB) - Starlight (3rd Generation)',\n",
              "  'Apple iPhone 11 (128GB) - (Product) RED',\n",
              "  'Apple iPhone SE (256 GB) - (Product) RED (3rd Generation)',\n",
              "  'Apple iPhone SE (128 GB) - (Product) RED (3rd Generation)',\n",
              "  'Apple iPhone 12 (64GB) - Blue',\n",
              "  'Apple iPhone XR (128GB) - Coral',\n",
              "  'Apple iPhone SE (256 GB) - Midnight (3rd Generation)',\n",
              "  'Apple iPhone 13 (128GB) - Starlight',\n",
              "  'New Apple iPhone 12 (64GB) - (Product) RED with Apple Clear Case with Magsafe (for iPhone 12, 12 Pro)',\n",
              "  'Apple iPhone SE (256 GB) - Starlight (3rd Generation)']}"
            ]
          },
          "metadata": {},
          "execution_count": 43
        }
      ]
    },
    {
      "cell_type": "code",
      "source": [
        "Scraper.set_rule_aliases({'rule_una6':\"Phone_Name\",'rule_kgea':'Price'})\n",
        "Scraper.keep_rules(['rule_una6','rule_kgea'])\n",
        "Scraper.save('Amazon Search')"
      ],
      "metadata": {
        "id": "5T6kNu7qu_nN"
      },
      "execution_count": 44,
      "outputs": []
    },
    {
      "cell_type": "code",
      "source": [
        "results= Scraper.get_result_similar('https://www.amazon.in/s?k=nokia2022&crid=6IKNYDTM2MCI',group_by_alias=True)"
      ],
      "metadata": {
        "id": "kWP1wc1JvTo3"
      },
      "execution_count": 48,
      "outputs": []
    },
    {
      "cell_type": "code",
      "source": [
        "results['Price']"
      ],
      "metadata": {
        "colab": {
          "base_uri": "https://localhost:8080/"
        },
        "id": "Bscvm8TLwNhm",
        "outputId": "822a1dae-ef8d-49ff-a9c4-5b605f4e718d"
      },
      "execution_count": 50,
      "outputs": [
        {
          "output_type": "execute_result",
          "data": {
            "text/plain": [
              "['₹3,586',\n",
              " '₹4,399',\n",
              " '₹46,999',\n",
              " '₹52,999',\n",
              " '₹12,149',\n",
              " '₹13,999',\n",
              " '₹3,599',\n",
              " '₹4,399',\n",
              " '₹3,349',\n",
              " '₹3,999',\n",
              " '₹46,998',\n",
              " '₹52,999',\n",
              " '₹1,329',\n",
              " '₹1,599',\n",
              " '₹2,974',\n",
              " '₹3,399',\n",
              " '₹12,998',\n",
              " '₹16,799',\n",
              " '₹3,132',\n",
              " '₹3,586',\n",
              " '₹3,399',\n",
              " '₹4,499',\n",
              " '₹1,449',\n",
              " '₹1,699',\n",
              " '₹11,951',\n",
              " '₹14,999',\n",
              " '₹7,999',\n",
              " '₹10,499',\n",
              " '₹12,149',\n",
              " '₹13,999',\n",
              " '₹2,499',\n",
              " '₹2,799']"
            ]
          },
          "metadata": {},
          "execution_count": 50
        }
      ]
    },
    {
      "cell_type": "code",
      "source": [
        ""
      ],
      "metadata": {
        "id": "_JUsY12Iy_Rl"
      },
      "execution_count": null,
      "outputs": []
    }
  ]
}